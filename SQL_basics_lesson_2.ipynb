{
  "nbformat": 4,
  "nbformat_minor": 0,
  "metadata": {
    "colab": {
      "provenance": []
    },
    "kernelspec": {
      "name": "python3",
      "display_name": "Python 3"
    },
    "language_info": {
      "name": "python"
    }
  },
  "cells": [
    {
      "cell_type": "markdown",
      "source": [
        "# Lesson 2: Advanced SQL Concepts\n",
        "\n",
        "In this lesson, we'll delve into more advanced SQL concepts, including joins and aggregate functions. These features allow us to work with multiple tables and perform calculations on grouped data.\n",
        "\n",
        "## 2.1 Joins\n",
        "\n",
        "In SQL, joins are used to combine rows from two or more tables based on a related column between them. There are various types of joins, including INNER JOIN, LEFT JOIN, and RIGHT JOIN.\n",
        "\n",
        "**Example:**\n",
        "```sql\n",
        "-- Retrieving employee information with department details\n",
        "SELECT employees.*, departments.department_name\n",
        "FROM employees\n",
        "INNER JOIN departments ON employees.department_id = departments.department_id;\n"
      ],
      "metadata": {
        "id": "PIZSS90dLKXU"
      }
    },
    {
      "cell_type": "markdown",
      "source": [
        "This query performs an INNER JOIN to combine data from the 'employees' and 'departments' tables based on the common 'department_id' column."
      ],
      "metadata": {
        "id": "zA09IUgBLPOI"
      }
    },
    {
      "cell_type": "markdown",
      "source": [
        "## 2.2 Aggregate Functions\n",
        "\n",
        "Aggregate functions allow us to perform calculations on a set of values and return a single value. Common aggregate functions include COUNT, SUM, AVG, MIN, and MAX.\n",
        "\n",
        "**Example:**\n",
        "```sql\n",
        "-- Calculating the average salary for each department\n",
        "SELECT department_id, AVG(salary) as avg_salary\n",
        "FROM employees\n",
        "GROUP BY department_id;\n"
      ],
      "metadata": {
        "id": "9HM--EY4LzeW"
      }
    },
    {
      "cell_type": "markdown",
      "source": [
        "This query uses the AVG aggregate function to calculate the average salary for each department by grouping the data based on the 'department_id' column.\n"
      ],
      "metadata": {
        "id": "gSRZBmp5L2LR"
      }
    },
    {
      "cell_type": "markdown",
      "source": [
        "## 2.3 Subqueries\n",
        "\n",
        "A subquery is a query embedded within another query. Subqueries can be used to retrieve data that will be used in the main query's condition or to perform calculations.\n",
        "\n",
        "**Example:**\n",
        "```sql\n",
        "-- Retrieving employees with salaries greater than the average salary\n",
        "SELECT * FROM employees\n",
        "WHERE salary > (SELECT AVG(salary) FROM employees);\n"
      ],
      "metadata": {
        "id": "C7-dMgqpMhnT"
      }
    },
    {
      "cell_type": "markdown",
      "source": [
        "This query uses a subquery to compare each employee's salary with the average salary calculated in the subquery."
      ],
      "metadata": {
        "id": "PH1rWAmkMp1t"
      }
    },
    {
      "cell_type": "markdown",
      "source": [
        "## 2.4 Indexing\n",
        "\n",
        "Indexing is a database optimization technique that improves the speed of data retrieval operations on a table. Indexes can be created on one or more columns of a table.\n",
        "\n",
        "**Example:**\n",
        "```sql\n",
        "-- Creating an index on the 'employee_id' column\n",
        "CREATE INDEX idx_employee_id ON employees(employee_id);\n"
      ],
      "metadata": {
        "id": "D-QgmuRhMw8a"
      }
    },
    {
      "cell_type": "markdown",
      "source": [
        "This query creates an index on the 'employee_id' column of the 'employees' table."
      ],
      "metadata": {
        "id": "S3wR0npWM4Vi"
      }
    },
    {
      "cell_type": "markdown",
      "source": [
        "## 2.5 Transactions\n",
        "\n",
        "Transactions ensure the integrity and consistency of a database by grouping multiple SQL statements into a single unit. Transactions follow the ACID properties (Atomicity, Consistency, Isolation, Durability).\n",
        "\n",
        "**Example:**\n",
        "```sql\n",
        "-- Example of a transaction\n",
        "BEGIN TRANSACTION;\n",
        "\n",
        "-- SQL statements here\n",
        "\n",
        "COMMIT;\n"
      ],
      "metadata": {
        "id": "Hn7eA_13M-x6"
      }
    },
    {
      "cell_type": "markdown",
      "source": [
        "This example demonstrates the use of transactions, starting with the BEGIN TRANSACTION statement and ending with the COMMIT statement to save the changes."
      ],
      "metadata": {
        "id": "BjokbkWgNCSO"
      }
    },
    {
      "cell_type": "code",
      "source": [],
      "metadata": {
        "id": "Z8EGv_u0LLhe"
      },
      "execution_count": null,
      "outputs": []
    }
  ]
}