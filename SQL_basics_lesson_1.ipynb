{
  "nbformat": 4,
  "nbformat_minor": 0,
  "metadata": {
    "colab": {
      "provenance": []
    },
    "kernelspec": {
      "name": "python3",
      "display_name": "Python 3"
    },
    "language_info": {
      "name": "python"
    }
  },
  "cells": [
    {
      "cell_type": "markdown",
      "source": [
        "# Lesson 1: Introduction to SQL\n",
        "\n",
        "Structured Query Language (SQL) is a powerful language used for managing and manipulating relational databases. In this lesson, we'll cover the fundamental concepts of SQL using an example related to a company database.\n",
        "\n",
        "## 1.1 Basics of SQL\n",
        "\n",
        "SQL operates on relational databases, which are collections of tables that store data. A table is a two-dimensional structure with rows and columns. Each row represents a record, and each column represents a field.\n",
        "\n",
        "**Example:**\n",
        "```sql\n",
        "-- Creating a simple table named 'employees'\n",
        "CREATE TABLE employees (\n",
        "    employee_id INT PRIMARY KEY,\n",
        "    first_name VARCHAR(50),\n",
        "    last_name VARCHAR(50),\n",
        "    department VARCHAR(50),\n",
        "    salary DECIMAL(10, 2)\n",
        ");\n"
      ],
      "metadata": {
        "id": "huKwXyPXmOM_"
      }
    },
    {
      "cell_type": "markdown",
      "source": [
        "In this example, we create a table named 'employees' with columns for employee ID, first name, last name, department, and salary."
      ],
      "metadata": {
        "id": "3UOVZ-nAnhqC"
      }
    },
    {
      "cell_type": "markdown",
      "source": [
        "## 1.2 Querying Data\n",
        "\n",
        "To retrieve data from a table, we use the `SELECT` statement.\n",
        "\n",
        "**Example:**\n",
        "```sql\n",
        "-- Retrieving all columns from the 'employees' table\n",
        "SELECT * FROM employees;\n"
      ],
      "metadata": {
        "id": "W3YS_NktnRHP"
      }
    },
    {
      "cell_type": "markdown",
      "source": [
        "This query returns all rows and columns from the 'employees' table."
      ],
      "metadata": {
        "id": "1txbELJbnWuN"
      }
    },
    {
      "cell_type": "markdown",
      "source": [
        "## 1.3 Filtering Data\n",
        "\n",
        "We can filter data using the `WHERE` clause.\n",
        "\n",
        "**Example:**\n",
        "```sql\n",
        "-- Retrieving employees in the 'Marketing' department\n",
        "SELECT * FROM employees WHERE department = 'Marketing';\n"
      ],
      "metadata": {
        "id": "k8gTv4e7tbzs"
      }
    },
    {
      "cell_type": "markdown",
      "source": [
        "This query returns employees who work in the 'Marketing' department."
      ],
      "metadata": {
        "id": "1GUTqa7Zth96"
      }
    },
    {
      "cell_type": "markdown",
      "source": [
        "## 1.4 Sorting Data\n",
        "\n",
        "Sorting is achieved with the `ORDER BY` clause.\n",
        "\n",
        "**Example:**\n",
        "```sql\n",
        "-- Sorting employees by salary in descending order\n",
        "SELECT * FROM employees ORDER BY salary DESC;\n"
      ],
      "metadata": {
        "id": "wku--8GctnAz"
      }
    },
    {
      "cell_type": "markdown",
      "source": [
        "This query returns employees sorted by salary in descending order."
      ],
      "metadata": {
        "id": "o1SOq3lgvGmV"
      }
    },
    {
      "cell_type": "markdown",
      "source": [
        "## 1.5 Updating Data\n",
        "\n",
        "To modify existing records, we use the `UPDATE` statement.\n",
        "\n",
        "**Example:**\n",
        "```sql\n",
        "-- Updating the salary of a specific employee\n",
        "UPDATE employees SET salary = 75000.00 WHERE employee_id = 1;\n"
      ],
      "metadata": {
        "id": "AeROvu-OvIH6"
      }
    },
    {
      "cell_type": "markdown",
      "source": [
        "This query updates the salary of the employee with ID 1."
      ],
      "metadata": {
        "id": "qrAr_DqBvMU_"
      }
    },
    {
      "cell_type": "markdown",
      "source": [
        "## 1.6 Deleting Data\n",
        "\n",
        "To remove records, we use the `DELETE` statement.\n",
        "\n",
        "**Example:**\n",
        "```sql\n",
        "-- Deleting an employee with ID 2\n",
        "DELETE FROM employees WHERE employee_id = 2;\n"
      ],
      "metadata": {
        "id": "lIXOVWyKvP7S"
      }
    },
    {
      "cell_type": "markdown",
      "source": [
        "This query deletes the record of the employee with ID 2."
      ],
      "metadata": {
        "id": "gbDhOkwavRfX"
      }
    },
    {
      "cell_type": "code",
      "source": [],
      "metadata": {
        "id": "L97cu7oevKJb"
      },
      "execution_count": null,
      "outputs": []
    }
  ]
}