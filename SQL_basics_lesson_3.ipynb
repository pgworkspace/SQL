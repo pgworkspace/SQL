{
  "nbformat": 4,
  "nbformat_minor": 0,
  "metadata": {
    "colab": {
      "provenance": []
    },
    "kernelspec": {
      "name": "python3",
      "display_name": "Python 3"
    },
    "language_info": {
      "name": "python"
    }
  },
  "cells": [
    {
      "cell_type": "markdown",
      "source": [
        "# Lesson 3: Stored Procedures and Triggers\n",
        "\n",
        "In this lesson, we'll explore the concepts of stored procedures and triggers in SQL. These advanced database features provide a way to encapsulate logic on the server side and automate certain actions based on events.\n",
        "\n",
        "## 3.1 Stored Procedures\n",
        "\n",
        "A stored procedure is a precompiled collection of one or more SQL statements that can be executed as a single unit. Stored procedures are stored in the database and can be called by applications or other stored procedures.\n",
        "\n",
        "**Example:**\n",
        "```sql\n",
        "-- Creating a simple stored procedure\n",
        "DELIMITER //\n",
        "CREATE PROCEDURE GetEmployeeDetails (IN employeeID INT)\n",
        "BEGIN\n",
        "    SELECT * FROM employees WHERE employee_id = employeeID;\n",
        "END //\n",
        "DELIMITER ;\n"
      ],
      "metadata": {
        "id": "uPh478xlWwsw"
      }
    },
    {
      "cell_type": "markdown",
      "source": [
        "This example creates a stored procedure named GetEmployeeDetails that retrieves employee details based on the provided employeeID.\n"
      ],
      "metadata": {
        "id": "zm2ofH6RW6M7"
      }
    },
    {
      "cell_type": "markdown",
      "source": [
        "## 3.2 Triggers\n",
        "\n",
        "A trigger is a set of instructions that automatically execute in response to a specific event on a particular table or view. Triggers are useful for enforcing business rules or auditing changes in the database.\n",
        "\n",
        "**Example:**\n",
        "```sql\n",
        "-- Creating a trigger to log employee updates\n",
        "CREATE TRIGGER log_employee_update\n",
        "AFTER UPDATE ON employees\n",
        "FOR EACH ROW\n",
        "BEGIN\n",
        "    INSERT INTO employee_logs (employee_id, action, timestamp)\n",
        "    VALUES (NEW.employee_id, 'update', NOW());\n",
        "END;\n"
      ],
      "metadata": {
        "id": "v97W1AsZXeyF"
      }
    },
    {
      "cell_type": "markdown",
      "source": [
        "This example creates a trigger named log_employee_update that inserts a log record into the employee_logs table whenever an update occurs on the employees table."
      ],
      "metadata": {
        "id": "LSHOHJzhXhOh"
      }
    },
    {
      "cell_type": "markdown",
      "source": [
        "## 3.3 Dynamic SQL\n",
        "\n",
        "Dynamic SQL is a technique that allows the construction and execution of SQL statements at runtime. It provides flexibility in building queries based on dynamic conditions.\n",
        "\n",
        "**Example:**\n",
        "```sql\n",
        "-- Using dynamic SQL to retrieve data based on a condition\n",
        "SET @condition = 'salary > 50000';\n",
        "SET @sql = CONCAT('SELECT * FROM employees WHERE ', @condition);\n",
        "PREPARE dynamic_query FROM @sql;\n",
        "EXECUTE dynamic_query;\n",
        "DEALLOCATE PREPARE dynamic_query;\n"
      ],
      "metadata": {
        "id": "DSD-HhlxX6-i"
      }
    },
    {
      "cell_type": "markdown",
      "source": [
        "## 3.4 Views\n",
        "\n",
        "A view is a virtual table based on the result of a SELECT query. It allows users to query and manipulate data as if it were a table, providing a layer of abstraction over the underlying tables.\n",
        "\n",
        "**Example:**\n",
        "```sql\n",
        "-- Creating a view to display employee details\n",
        "CREATE VIEW employee_view AS\n",
        "SELECT employee_id, first_name, last_name, department\n",
        "FROM employees;\n"
      ],
      "metadata": {
        "id": "p9olzJJ1YAca"
      }
    },
    {
      "cell_type": "code",
      "source": [],
      "metadata": {
        "id": "cYYRyxwzWxkB"
      },
      "execution_count": null,
      "outputs": []
    }
  ]
}